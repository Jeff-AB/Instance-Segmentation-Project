{
  "nbformat": 4,
  "nbformat_minor": 0,
  "metadata": {
    "colab": {
      "name": "ECE542FinalProject.ipynb",
      "provenance": [],
      "collapsed_sections": [],
      "include_colab_link": true
    },
    "kernelspec": {
      "name": "python3",
      "display_name": "Python 3"
    },
    "accelerator": "GPU"
  },
  "cells": [
    {
      "cell_type": "markdown",
      "metadata": {
        "id": "view-in-github",
        "colab_type": "text"
      },
      "source": [
        "<a href=\"https://colab.research.google.com/github/Jeff-AB/ECE542FinalProject/blob/master/ECE542FinalProject.ipynb\" target=\"_parent\"><img src=\"https://colab.research.google.com/assets/colab-badge.svg\" alt=\"Open In Colab\"/></a>"
      ]
    },
    {
      "cell_type": "markdown",
      "metadata": {
        "id": "dNtCvd6KxZO0",
        "colab_type": "text"
      },
      "source": [
        "# ECE 542 Final Project\n",
        "## Upload Rules\n",
        "Upload your changes to your branch only. When you think that your changes are sufficient, make a pull request to the master branch from your personal branch and assign other members to review it. After a branch has been merged, everyone has to update their setups with the new master branch."
      ]
    },
    {
      "cell_type": "code",
      "metadata": {
        "id": "86l3hfCcxfDl",
        "colab_type": "code",
        "colab": {}
      },
      "source": [
        "#test"
      ],
      "execution_count": 0,
      "outputs": []
    }
  ]
}